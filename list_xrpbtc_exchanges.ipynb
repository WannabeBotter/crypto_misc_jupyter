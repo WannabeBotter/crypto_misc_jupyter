{
 "cells": [
  {
   "cell_type": "code",
   "execution_count": 29,
   "id": "b0287939-1ca0-4f0f-932f-6bff4849d9b5",
   "metadata": {},
   "outputs": [
    {
     "name": "stderr",
     "output_type": "stream",
     "text": [
      "100%|██████████| 112/112 [02:14<00:00,  1.20s/it]\n"
     ]
    }
   ],
   "source": [
    "import ccxt\n",
    "from tqdm import tqdm\n",
    "\n",
    "exchange_list = []\n",
    "\n",
    "for exchange_name in tqdm(ccxt.exchanges):\n",
    "    ccxt_exchange = getattr(ccxt, exchange_name)()\n",
    "    \n",
    "    try:\n",
    "        ccxt_exchange.load_markets()    \n",
    "        if ccxt_exchange.has['fetchTrades'] is True:\n",
    "            if 'XRP/BTC' in ccxt_exchange.symbols:\n",
    "                exchange_list.append(exchange_name)\n",
    "    except ccxt.NetworkError as e:\n",
    "        pass\n",
    "    except ccxt.ExchangeError as e:\n",
    "        continue \n",
    "    except:\n",
    "        continue"
   ]
  },
  {
   "cell_type": "code",
   "execution_count": 30,
   "id": "be79a40e-a0fd-4963-a4d5-a45970dbbad0",
   "metadata": {},
   "outputs": [
    {
     "name": "stdout",
     "output_type": "stream",
     "text": [
      "['aax', 'ascendex', 'bequant', 'bibox', 'bigone', 'binance', 'binanceus', 'bitbank', 'bitcoincom', 'bitfinex', 'bitfinex2', 'bitforex', 'bitget', 'bithumb', 'bitrue', 'bitso', 'bitstamp', 'bitstamp1', 'bittrex', 'bitvavo', 'btcalpha', 'btcmarkets', 'btcturk', 'bytetrade', 'cdax', 'cex', 'coinex', 'coinfalcon', 'coinmate', 'crex24', 'currencycom', 'delta', 'digifinex', 'exmo', 'ftx', 'gateio', 'hitbtc', 'hitbtc3', 'huobi', 'huobijp', 'huobipro', 'kraken', 'kucoin', 'latoken', 'latoken1', 'lbank', 'liquid', 'luno', 'lykke', 'mexc', 'novadax', 'okex', 'okex3', 'okex5', 'poloniex', 'probit', 'stex', 'upbit', 'whitebit', 'yobit', 'zb']\n",
      "61\n"
     ]
    }
   ],
   "source": [
    "print(exchange_list)\n",
    "print(len(exchange_list))"
   ]
  }
 ],
 "metadata": {
  "kernelspec": {
   "display_name": "Python 3 (ipykernel)",
   "language": "python",
   "name": "python3"
  },
  "language_info": {
   "codemirror_mode": {
    "name": "ipython",
    "version": 3
   },
   "file_extension": ".py",
   "mimetype": "text/x-python",
   "name": "python",
   "nbconvert_exporter": "python",
   "pygments_lexer": "ipython3",
   "version": "3.9.7"
  }
 },
 "nbformat": 4,
 "nbformat_minor": 5
}
