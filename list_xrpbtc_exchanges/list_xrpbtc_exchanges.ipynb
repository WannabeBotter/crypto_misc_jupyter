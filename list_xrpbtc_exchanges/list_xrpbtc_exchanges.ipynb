{
 "cells": [
  {
   "cell_type": "code",
   "execution_count": 6,
   "id": "b0287939-1ca0-4f0f-932f-6bff4849d9b5",
   "metadata": {},
   "outputs": [
    {
     "name": "stderr",
     "output_type": "stream",
     "text": [
      "100%|██████████| 112/112 [02:10<00:00,  1.17s/it]"
     ]
    },
    {
     "name": "stdout",
     "output_type": "stream",
     "text": [
      "XRP/BTCをサポートしている取引所の一覧は以下の通りです (計61個)\n",
      "aax\n",
      "ascendex\n",
      "bequant\n",
      "bibox\n",
      "bigone\n",
      "binance\n",
      "binanceus\n",
      "bitbank\n",
      "bitcoincom\n",
      "bitfinex\n",
      "bitfinex2\n",
      "bitforex\n",
      "bitget\n",
      "bithumb\n",
      "bitrue\n",
      "bitso\n",
      "bitstamp\n",
      "bitstamp1\n",
      "bittrex\n",
      "bitvavo\n",
      "btcalpha\n",
      "btcmarkets\n",
      "btcturk\n",
      "bytetrade\n",
      "cdax\n",
      "cex\n",
      "coinex\n",
      "coinfalcon\n",
      "coinmate\n",
      "crex24\n",
      "currencycom\n",
      "delta\n",
      "digifinex\n",
      "exmo\n",
      "ftx\n",
      "gateio\n",
      "hitbtc\n",
      "hitbtc3\n",
      "huobi\n",
      "huobijp\n",
      "huobipro\n",
      "kraken\n",
      "kucoin\n",
      "latoken\n",
      "latoken1\n",
      "lbank\n",
      "liquid\n",
      "luno\n",
      "lykke\n",
      "mexc\n",
      "novadax\n",
      "okex\n",
      "okex3\n",
      "okex5\n",
      "poloniex\n",
      "probit\n",
      "stex\n",
      "upbit\n",
      "whitebit\n",
      "yobit\n",
      "zb\n"
     ]
    },
    {
     "name": "stderr",
     "output_type": "stream",
     "text": [
      "\n"
     ]
    }
   ],
   "source": [
    "import ccxt\n",
    "from tqdm import tqdm\n",
    "\n",
    "exchange_list = []\n",
    "target_symbol = 'XRP/BTC'\n",
    "\n",
    "for exchange_name in tqdm(ccxt.exchanges):\n",
    "    ccxt_exchange = getattr(ccxt, exchange_name)()\n",
    "    \n",
    "    try:\n",
    "        ccxt_exchange.load_markets()    \n",
    "        if ccxt_exchange.has['fetchTrades'] is True:\n",
    "            if target_symbol in ccxt_exchange.symbols:\n",
    "                exchange_list.append(exchange_name)\n",
    "    except ccxt.NetworkError as e:\n",
    "        pass\n",
    "    except ccxt.ExchangeError as e:\n",
    "        pass \n",
    "    except:\n",
    "        pass\n",
    "\n",
    "print(f'{target_symbol}をサポートしている取引所の一覧は以下の通りです (計{len(exchange_list)}個)')\n",
    "for exchange_name in exchange_list:\n",
    "    print(exchange_name)"
   ]
  },
  {
   "cell_type": "code",
   "execution_count": null,
   "id": "a37436bd-7d8e-44d8-956e-3dba47f7d026",
   "metadata": {},
   "outputs": [],
   "source": []
  }
 ],
 "metadata": {
  "kernelspec": {
   "display_name": "Python 3 (ipykernel)",
   "language": "python",
   "name": "python3"
  },
  "language_info": {
   "codemirror_mode": {
    "name": "ipython",
    "version": 3
   },
   "file_extension": ".py",
   "mimetype": "text/x-python",
   "name": "python",
   "nbconvert_exporter": "python",
   "pygments_lexer": "ipython3",
   "version": "3.9.7"
  }
 },
 "nbformat": 4,
 "nbformat_minor": 5
}
