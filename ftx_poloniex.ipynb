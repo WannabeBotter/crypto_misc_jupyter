{
 "cells": [
  {
   "cell_type": "code",
   "execution_count": 65,
   "id": "b1245136-7a2d-4aa3-af59-9f6a64828298",
   "metadata": {},
   "outputs": [],
   "source": [
    "import os\n",
    "\n",
    "from datetime import timezone, datetime\n",
    "\n",
    "from crypto_trades_downloader.timescaledb_util import TimeScaleDBUtil\n",
    "import pandas as pd\n",
    "\n",
    "pd.options.display.precision = 10\n",
    "\n",
    "# PostgreSQL設定\n",
    "pg_config = {\n",
    "    'user': os.environ['POSTGRES_USER'],\n",
    "    'password': os.environ['POSTGRES_PASSWORD'],\n",
    "    'host': os.environ['POSTGRES_HOST'],\n",
    "    'port': os.environ['POSTGRES_PORT'],\n",
    "    'database': os.environ['POSTGRES_DATABASE']\n",
    "}\n",
    "\n",
    "dbutil = TimeScaleDBUtil(user = pg_config['user'], password = pg_config['password'], host = pg_config['host'], port = pg_config['port'], database = pg_config['database'])"
   ]
  },
  {
   "cell_type": "code",
   "execution_count": 76,
   "id": "17eae242-421f-4146-a9ce-272419d20c04",
   "metadata": {},
   "outputs": [],
   "source": [
    "ex_a_name = 'ftx'\n",
    "ex_b_name = 'poloniex'\n",
    "\n",
    "table_name = dbutil.get_trade_table_name(ex_a_name, 'XRP/BTC')\n",
    "df_trades_a = dbutil.read_sql_query(sql = f'SELECT * FROM \"{table_name}\" WHERE datetime < \\'2021-12-26 00:00:00+00\\' ORDER BY datetime')\n",
    "df_trades_a = df_trades_a.rename(columns={'price': 'price_a'})\n",
    "df_trades_a['exchange'] = ex_a_name\n",
    "\n",
    "table_name = dbutil.get_trade_table_name(ex_b_name, 'XRP/BTC')\n",
    "df_trades_b = dbutil.read_sql_query(sql = f'SELECT * FROM \"{table_name}\" WHERE datetime < \\'2021-12-26 00:00:00+00\\' ORDER BY datetime')\n",
    "df_trades_b = df_trades_b.rename(columns={'price': 'price_b'})\n",
    "df_trades_b['exchange'] = ex_b_name"
   ]
  },
  {
   "cell_type": "code",
   "execution_count": 86,
   "id": "ac7eac39-86a0-43e7-8b1f-9c57cdd0dfd4",
   "metadata": {},
   "outputs": [],
   "source": [
    "df_ab_trades_nona = pd.concat([df_trades_a, df_trades_b]).sort_values('datetime', ascending=True).fillna(method='ffill').dropna().reset_index(drop=True)\n",
    "df_ab_trades_nona['price_diff'] = df_ab_trades_nona['price_a'] - df_ab_trades_nona['price_b']\n",
    "df_ab_trades_nona['price_diff_pct'] = df_ab_trades_nona['price_diff'] / df_ab_trades_nona['price_a'] * 100\n",
    "df_ab_trades_nona['profitable'] = False\n",
    "df_ab_trades_nona.loc[(df_ab_trades_nona['price_diff_pct'] > 1.0) | (df_ab_trades_nona['price_diff_pct'] < -1.0), 'profitable'] = True\n",
    "df_ab_trades_nona['inverse_profitable'] = ~df_ab_trades_nona['profitable']\n",
    "df_ab_trades_nona['profitable_label'] = df_ab_trades_nona['inverse_profitable'].cumsum()"
   ]
  },
  {
   "cell_type": "code",
   "execution_count": 88,
   "id": "38d40550-7928-4383-a46d-b07c7f934a5d",
   "metadata": {},
   "outputs": [],
   "source": [
    "df_ab_trades_nona_timediff = df_ab_trades_nona.sort_values('datetime', ascending=False)\n",
    "df_ab_trades_nona_timediff['datetime_diff'] = -df_ab_trades_nona_timediff['datetime'].diff().dt.total_seconds()\n",
    "df_ab_trades_nona_timediff.dropna(inplace=True)\n",
    "df_ab_trades_nona_timediff = df_ab_trades_nona_timediff.sort_values('datetime', ascending=True).reset_index(drop=True)"
   ]
  },
  {
   "cell_type": "code",
   "execution_count": 89,
   "id": "08c71647-328e-427e-991d-0107c8c713d9",
   "metadata": {},
   "outputs": [],
   "source": [
    "df_ab_trades_nona_timediff_profitable = df_ab_trades_nona_timediff[df_ab_trades_nona_timediff['profitable'] == True]\n",
    "df_ab_trades_nona_timediff_profitable_group = df_ab_trades_nona_timediff_profitable.groupby(\"profitable_label\")"
   ]
  },
  {
   "cell_type": "code",
   "execution_count": 96,
   "id": "a622e885-c0b7-40d2-bfc7-bab1655da7bf",
   "metadata": {},
   "outputs": [
    {
     "data": {
      "text/plain": [
       "129.26795027777777"
      ]
     },
     "execution_count": 96,
     "metadata": {},
     "output_type": "execute_result"
    }
   ],
   "source": [
    "df_ab_trades_nona_timediff_profitable['datetime_diff'].sum() / 60 / 60"
   ]
  },
  {
   "cell_type": "code",
   "execution_count": 101,
   "id": "ec680e19-08d7-4aed-9a44-34f40f607d06",
   "metadata": {},
   "outputs": [
    {
     "name": "stdout",
     "output_type": "stream",
     "text": [
      "0 percentile: 0.000%\n",
      "1 percentile: 0.000%\n",
      "2 percentile: 0.000%\n",
      "3 percentile: 0.000%\n",
      "4 percentile: 0.000%\n",
      "5 percentile: 0.000%\n",
      "6 percentile: 0.000%\n",
      "7 percentile: 0.000%\n",
      "8 percentile: 0.000%\n",
      "9 percentile: 0.000%\n",
      "10 percentile: 0.000%\n",
      "11 percentile: 0.000%\n",
      "12 percentile: 0.000%\n",
      "13 percentile: 0.000%\n",
      "14 percentile: 0.000%\n",
      "15 percentile: 0.000%\n",
      "16 percentile: 0.000%\n",
      "17 percentile: 0.000%\n",
      "18 percentile: 0.000%\n",
      "19 percentile: 0.037%\n",
      "20 percentile: 0.038%\n",
      "21 percentile: 0.039%\n",
      "22 percentile: 0.040%\n",
      "23 percentile: 0.042%\n",
      "24 percentile: 0.042%\n",
      "25 percentile: 0.044%\n",
      "26 percentile: 0.045%\n",
      "27 percentile: 0.046%\n",
      "28 percentile: 0.048%\n",
      "29 percentile: 0.051%\n",
      "30 percentile: 0.052%\n",
      "31 percentile: 0.052%\n",
      "32 percentile: 0.053%\n",
      "33 percentile: 0.054%\n",
      "34 percentile: 0.054%\n",
      "35 percentile: 0.055%\n",
      "36 percentile: 0.055%\n",
      "37 percentile: 0.056%\n",
      "38 percentile: 0.057%\n",
      "39 percentile: 0.057%\n",
      "40 percentile: 0.058%\n",
      "41 percentile: 0.060%\n",
      "42 percentile: 0.066%\n",
      "43 percentile: 0.075%\n",
      "44 percentile: 0.078%\n",
      "45 percentile: 0.081%\n",
      "46 percentile: 0.084%\n",
      "47 percentile: 0.087%\n",
      "48 percentile: 0.091%\n",
      "49 percentile: 0.094%\n",
      "50 percentile: 0.100%\n",
      "51 percentile: 0.103%\n",
      "52 percentile: 0.105%\n",
      "53 percentile: 0.107%\n",
      "54 percentile: 0.108%\n",
      "55 percentile: 0.110%\n",
      "56 percentile: 0.112%\n",
      "57 percentile: 0.114%\n",
      "58 percentile: 0.117%\n",
      "59 percentile: 0.119%\n",
      "60 percentile: 0.122%\n",
      "61 percentile: 0.127%\n",
      "62 percentile: 0.135%\n",
      "63 percentile: 0.142%\n",
      "64 percentile: 0.153%\n",
      "65 percentile: 0.158%\n",
      "66 percentile: 0.162%\n",
      "67 percentile: 0.168%\n",
      "68 percentile: 0.174%\n",
      "69 percentile: 0.182%\n",
      "70 percentile: 0.191%\n",
      "71 percentile: 0.201%\n",
      "72 percentile: 0.210%\n",
      "73 percentile: 0.217%\n",
      "74 percentile: 0.226%\n",
      "75 percentile: 0.237%\n",
      "76 percentile: 0.250%\n",
      "77 percentile: 0.262%\n",
      "78 percentile: 0.274%\n",
      "79 percentile: 0.287%\n",
      "80 percentile: 0.304%\n",
      "81 percentile: 0.322%\n",
      "82 percentile: 0.340%\n",
      "83 percentile: 0.362%\n",
      "84 percentile: 0.381%\n",
      "85 percentile: 0.402%\n",
      "86 percentile: 0.429%\n",
      "87 percentile: 0.460%\n",
      "88 percentile: 0.489%\n",
      "89 percentile: 0.523%\n",
      "90 percentile: 0.565%\n",
      "91 percentile: 0.608%\n",
      "92 percentile: 0.659%\n",
      "93 percentile: 0.724%\n",
      "94 percentile: 0.795%\n",
      "95 percentile: 0.893%\n",
      "96 percentile: 1.019%\n",
      "97 percentile: 1.206%\n",
      "98 percentile: 1.541%\n",
      "99 percentile: 2.508%\n",
      "100 percentile: 75.104%\n"
     ]
    }
   ],
   "source": [
    "from scipy import stats\n",
    "import numpy as np\n",
    "\n",
    "for x in range(0, 101, 1):\n",
    "    percentile = stats.scoreatpercentile(df_ab_trades_nona['price_diff_pct'].abs(), x)\n",
    "    print(f\"{x} percentile: {percentile:.3f}%\")"
   ]
  },
  {
   "cell_type": "code",
   "execution_count": 97,
   "id": "ed89875f-04c2-4771-9d5a-aab350b99087",
   "metadata": {},
   "outputs": [
    {
     "name": "stdout",
     "output_type": "stream",
     "text": [
      "0 percentile: 0.00 sec\n",
      "5 percentile: 0.00 sec\n",
      "10 percentile: 0.00 sec\n",
      "15 percentile: 0.00 sec\n",
      "20 percentile: 0.00 sec\n",
      "25 percentile: 0.00 sec\n",
      "30 percentile: 0.30 sec\n",
      "35 percentile: 0.88 sec\n",
      "40 percentile: 1.00 sec\n",
      "45 percentile: 1.26 sec\n",
      "50 percentile: 2.00 sec\n",
      "55 percentile: 3.00 sec\n",
      "60 percentile: 4.00 sec\n",
      "65 percentile: 6.10 sec\n",
      "70 percentile: 10.00 sec\n",
      "75 percentile: 15.00 sec\n",
      "80 percentile: 24.00 sec\n",
      "85 percentile: 40.00 sec\n",
      "90 percentile: 71.00 sec\n",
      "95 percentile: 155.29 sec\n",
      "100 percentile: 5665.71 sec\n"
     ]
    }
   ],
   "source": [
    "from scipy import stats\n",
    "import numpy as np\n",
    "\n",
    "df_time_diff = df_ab_trades_nona_timediff_profitable_group['datetime_diff'].sum()\n",
    "\n",
    "for x in range(0, 105, 5):\n",
    "    percentile = stats.scoreatpercentile(df_time_diff, x)\n",
    "    print(f\"{x} percentile: {percentile:.2f} sec\")"
   ]
  },
  {
   "cell_type": "code",
   "execution_count": 95,
   "id": "57337274-e214-48b0-b908-f533a6fd8665",
   "metadata": {},
   "outputs": [
    {
     "data": {
      "text/plain": [
       "118448"
      ]
     },
     "execution_count": 95,
     "metadata": {},
     "output_type": "execute_result"
    }
   ],
   "source": [
    "len(df_ab_trades_nona_timediff_profitable)"
   ]
  },
  {
   "cell_type": "code",
   "execution_count": null,
   "id": "01976047-7af3-493e-bedb-8e52743b16ac",
   "metadata": {},
   "outputs": [],
   "source": []
  }
 ],
 "metadata": {
  "kernelspec": {
   "display_name": "Python 3 (ipykernel)",
   "language": "python",
   "name": "python3"
  },
  "language_info": {
   "codemirror_mode": {
    "name": "ipython",
    "version": 3
   },
   "file_extension": ".py",
   "mimetype": "text/x-python",
   "name": "python",
   "nbconvert_exporter": "python",
   "pygments_lexer": "ipython3",
   "version": "3.9.7"
  }
 },
 "nbformat": 4,
 "nbformat_minor": 5
}
