{
 "cells": [
  {
   "cell_type": "code",
   "execution_count": 1,
   "id": "448b9d12-62a2-4636-b1c4-1314a47b988f",
   "metadata": {},
   "outputs": [],
   "source": [
    "import os\n",
    "import sys\n",
    "\n",
    "import math\n",
    "from datetime import timezone, datetime\n",
    "\n",
    "import joblib\n",
    "import matplotlib.pyplot as plt\n",
    "import mplfinance as mpf\n",
    "import numba\n",
    "import numpy as np\n",
    "import pandas as pd\n",
    "from scipy.stats import ttest_1samp\n",
    "import seaborn as sns\n",
    "import talib\n",
    "\n",
    "from sklearn.ensemble import BaggingRegressor\n",
    "from sklearn.linear_model import RidgeCV\n",
    "from sklearn.model_selection import cross_val_score, KFold, TimeSeriesSplit"
   ]
  },
  {
   "cell_type": "code",
   "execution_count": 2,
   "id": "4204a940-8f57-4a3b-9aad-324785e35985",
   "metadata": {},
   "outputs": [],
   "source": [
    "# TimescaleDB用のユーティリティライブラリの設定\n",
    "import sys\n",
    "sys.path.append('..')\n",
    "from timescaledb_util import TimeScaleDBUtil\n",
    "\n",
    "_pg_config = {\n",
    "        'user': os.environ['POSTGRES_USER'],\n",
    "        'password': os.environ['POSTGRES_PASSWORD'],\n",
    "        'host': os.environ['POSTGRES_HOST'],\n",
    "        'port': os.environ['POSTGRES_PORT'],\n",
    "        'database': os.environ['POSTGRES_DATABASE']\n",
    "    }\n",
    "    \n",
    "_dbutil = TimeScaleDBUtil(user = _pg_config['user'], password = _pg_config['password'], host = _pg_config['host'], port = _pg_config['port'], database = _pg_config['database'])"
   ]
  },
  {
   "cell_type": "code",
   "execution_count": null,
   "id": "df57deda-c62c-4b9a-8d99-523d25f49854",
   "metadata": {},
   "outputs": [],
   "source": [
    "_sql = f\"SELECT * FROM \\\"ftx_btc-perp_dollar_cumsum_daily\\\" ORDER BY time ASC\"\n",
    "df = _dbutil.read_sql_query(sql = _sql)\n",
    "df = df.set_index(\"time\")    \n",
    "df"
   ]
  },
  {
   "cell_type": "code",
   "execution_count": null,
   "id": "ea9cbbb3-d837-42f5-9087-1a36209e941b",
   "metadata": {},
   "outputs": [],
   "source": [
    "plt.figure(figsize=(18,6))\n",
    "ax = plt.subplot(131)\n",
    "#df['dollar_cumsum'].plot(label='dollar_cumsum', ax=ax)\n",
    "(df.loc[df.index < '2020-01-01', 'buy_dollar_cumsum'] - df.loc[df.index < '2020-01-01', 'sell_dollar_cumsum']).plot(label='buy_cumsum - sell-cumsum', ax=ax)\n",
    "ax = plt.subplot(132)\n",
    "(df.loc[(df.index >= '2020-01-01') & (df.index < '2021-01-01'), 'buy_dollar_cumsum'] - df.loc[(df.index >= '2020-01-01') & (df.index < '2021-01-01'), 'sell_dollar_cumsum']).plot(label='buy_cumsum - sell-cumsum', ax=ax)\n",
    "ax = plt.subplot(133)\n",
    "(df.loc[(df.index >= '2021-01-01') & (df.index < '2022-01-01'), 'buy_dollar_cumsum'] - df.loc[(df.index >= '2021-01-01') & (df.index < '2022-01-01'), 'sell_dollar_cumsum']).plot(label='buy_cumsum - sell-cumsum', ax=ax)\n",
    "plt.legend(bbox_to_anchor=(1.05, 1))\n",
    "plt.show()"
   ]
  },
  {
   "cell_type": "code",
   "execution_count": null,
   "id": "87e8adb6-6106-4a25-b26a-7d69e133c3b8",
   "metadata": {},
   "outputs": [],
   "source": []
  },
  {
   "cell_type": "code",
   "execution_count": null,
   "id": "8a7b5961-2e3d-4d2e-ae7a-f12de5588672",
   "metadata": {},
   "outputs": [],
   "source": []
  },
  {
   "cell_type": "code",
   "execution_count": null,
   "id": "4f35b005-53a3-41e3-ad80-ac2c6a2283b5",
   "metadata": {},
   "outputs": [],
   "source": []
  }
 ],
 "metadata": {
  "kernelspec": {
   "display_name": "Python 3 (ipykernel)",
   "language": "python",
   "name": "python3"
  },
  "language_info": {
   "codemirror_mode": {
    "name": "ipython",
    "version": 3
   },
   "file_extension": ".py",
   "mimetype": "text/x-python",
   "name": "python",
   "nbconvert_exporter": "python",
   "pygments_lexer": "ipython3",
   "version": "3.9.7"
  }
 },
 "nbformat": 4,
 "nbformat_minor": 5
}
