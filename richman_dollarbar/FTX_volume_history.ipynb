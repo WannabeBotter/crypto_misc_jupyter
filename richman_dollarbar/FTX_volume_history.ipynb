{
 "cells": [
  {
   "cell_type": "code",
   "execution_count": 3,
   "id": "448b9d12-62a2-4636-b1c4-1314a47b988f",
   "metadata": {},
   "outputs": [],
   "source": [
    "import os\n",
    "import sys\n",
    "\n",
    "import math\n",
    "from datetime import timezone, datetime\n",
    "\n",
    "import joblib\n",
    "import matplotlib.pyplot as plt\n",
    "import mplfinance as mpf\n",
    "import numba\n",
    "import numpy as np\n",
    "import pandas as pd\n",
    "from scipy.stats import ttest_1samp\n",
    "import seaborn as sns\n",
    "import talib\n",
    "\n",
    "from sklearn.ensemble import BaggingRegressor\n",
    "from sklearn.linear_model import RidgeCV\n",
    "from sklearn.model_selection import cross_val_score, KFold, TimeSeriesSplit"
   ]
  },
  {
   "cell_type": "code",
   "execution_count": 4,
   "id": "4204a940-8f57-4a3b-9aad-324785e35985",
   "metadata": {},
   "outputs": [],
   "source": [
    "# TimescaleDB用のユーティリティライブラリの設定\n",
    "from timescaledb_util import TimeScaleDBUtil\n",
    "\n",
    "_pg_config = {\n",
    "        'user': os.environ['POSTGRES_USER'],\n",
    "        'password': os.environ['POSTGRES_PASSWORD'],\n",
    "        'host': os.environ['POSTGRES_HOST'],\n",
    "        'port': os.environ['POSTGRES_PORT'],\n",
    "        'database': os.environ['POSTGRES_DATABASE']\n",
    "    }\n",
    "    \n",
    "_dbutil = TimeScaleDBUtil(user = _pg_config['user'], password = _pg_config['password'], host = _pg_config['host'], port = _pg_config['port'], database = _pg_config['database'])"
   ]
  },
  {
   "cell_type": "code",
   "execution_count": 9,
   "id": "df57deda-c62c-4b9a-8d99-523d25f49854",
   "metadata": {},
   "outputs": [
    {
     "data": {
      "text/html": [
       "<div>\n",
       "<style scoped>\n",
       "    .dataframe tbody tr th:only-of-type {\n",
       "        vertical-align: middle;\n",
       "    }\n",
       "\n",
       "    .dataframe tbody tr th {\n",
       "        vertical-align: top;\n",
       "    }\n",
       "\n",
       "    .dataframe thead th {\n",
       "        text-align: right;\n",
       "    }\n",
       "</style>\n",
       "<table border=\"1\" class=\"dataframe\">\n",
       "  <thead>\n",
       "    <tr style=\"text-align: right;\">\n",
       "      <th></th>\n",
       "      <th>max</th>\n",
       "    </tr>\n",
       "    <tr>\n",
       "      <th>bucket</th>\n",
       "      <th></th>\n",
       "    </tr>\n",
       "  </thead>\n",
       "  <tbody>\n",
       "    <tr>\n",
       "      <th>2019-03-05 00:00:00+00:00</th>\n",
       "      <td>4.075947e+02</td>\n",
       "    </tr>\n",
       "    <tr>\n",
       "      <th>2019-03-07 00:00:00+00:00</th>\n",
       "      <td>1.401854e+05</td>\n",
       "    </tr>\n",
       "    <tr>\n",
       "      <th>2019-03-08 00:00:00+00:00</th>\n",
       "      <td>2.036252e+05</td>\n",
       "    </tr>\n",
       "    <tr>\n",
       "      <th>2019-03-09 00:00:00+00:00</th>\n",
       "      <td>4.182689e+05</td>\n",
       "    </tr>\n",
       "    <tr>\n",
       "      <th>2019-03-10 00:00:00+00:00</th>\n",
       "      <td>1.286863e+06</td>\n",
       "    </tr>\n",
       "    <tr>\n",
       "      <th>...</th>\n",
       "      <td>...</td>\n",
       "    </tr>\n",
       "    <tr>\n",
       "      <th>2022-01-24 00:00:00+00:00</th>\n",
       "      <td>1.580304e+12</td>\n",
       "    </tr>\n",
       "    <tr>\n",
       "      <th>2022-01-25 00:00:00+00:00</th>\n",
       "      <td>1.584303e+12</td>\n",
       "    </tr>\n",
       "    <tr>\n",
       "      <th>2022-01-26 00:00:00+00:00</th>\n",
       "      <td>1.590448e+12</td>\n",
       "    </tr>\n",
       "    <tr>\n",
       "      <th>2022-01-27 00:00:00+00:00</th>\n",
       "      <td>1.595062e+12</td>\n",
       "    </tr>\n",
       "    <tr>\n",
       "      <th>2022-01-28 00:00:00+00:00</th>\n",
       "      <td>1.595730e+12</td>\n",
       "    </tr>\n",
       "  </tbody>\n",
       "</table>\n",
       "<p>1059 rows × 1 columns</p>\n",
       "</div>"
      ],
      "text/plain": [
       "                                    max\n",
       "bucket                                 \n",
       "2019-03-05 00:00:00+00:00  4.075947e+02\n",
       "2019-03-07 00:00:00+00:00  1.401854e+05\n",
       "2019-03-08 00:00:00+00:00  2.036252e+05\n",
       "2019-03-09 00:00:00+00:00  4.182689e+05\n",
       "2019-03-10 00:00:00+00:00  1.286863e+06\n",
       "...                                 ...\n",
       "2022-01-24 00:00:00+00:00  1.580304e+12\n",
       "2022-01-25 00:00:00+00:00  1.584303e+12\n",
       "2022-01-26 00:00:00+00:00  1.590448e+12\n",
       "2022-01-27 00:00:00+00:00  1.595062e+12\n",
       "2022-01-28 00:00:00+00:00  1.595730e+12\n",
       "\n",
       "[1059 rows x 1 columns]"
      ]
     },
     "execution_count": 9,
     "metadata": {},
     "output_type": "execute_result"
    }
   ],
   "source": [
    "_sql = f\"SELECT * FROM daily_cumsum ORDER BY bucket ASC\"\n",
    "df = _dbutil.read_sql_query(sql = _sql)\n",
    "df = df.set_index(\"bucket\")    \n",
    "df"
   ]
  },
  {
   "cell_type": "code",
   "execution_count": 16,
   "id": "ea9cbbb3-d837-42f5-9087-1a36209e941b",
   "metadata": {},
   "outputs": [
    {
     "data": {
      "image/png": "[encoded data removed]",
      "text/plain": [
       "<Figure size 1728x432 with 1 Axes>"
      ]
     },
     "metadata": {
      "needs_background": "light"
     },
     "output_type": "display_data"
    }
   ],
   "source": [
    "plt.figure(figsize=(24,6))\n",
    "ax = plt.subplot(121)\n",
    "df['max'].plot(label='cumsum', ax=ax)\n",
    "plt.title(f'FTX btc-perp trade dollar cumsum')\n",
    "plt.legend(bbox_to_anchor=(1.05, 1))\n",
    "plt.show()"
   ]
  },
  {
   "cell_type": "code",
   "execution_count": null,
   "id": "87e8adb6-6106-4a25-b26a-7d69e133c3b8",
   "metadata": {},
   "outputs": [],
   "source": []
  }
 ],
 "metadata": {
  "kernelspec": {
   "display_name": "Python 3 (ipykernel)",
   "language": "python",
   "name": "python3"
  },
  "language_info": {
   "codemirror_mode": {
    "name": "ipython",
    "version": 3
   },
   "file_extension": ".py",
   "mimetype": "text/x-python",
   "name": "python",
   "nbconvert_exporter": "python",
   "pygments_lexer": "ipython3",
   "version": "3.9.7"
  }
 },
 "nbformat": 4,
 "nbformat_minor": 5
}
